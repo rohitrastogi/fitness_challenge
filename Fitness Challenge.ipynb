{
 "cells": [
  {
   "cell_type": "code",
   "execution_count": 10,
   "metadata": {
    "collapsed": true
   },
   "outputs": [],
   "source": [
    "import numpy as np\n",
    "import pprint \n",
    "pp = pprint.PrettyPrinter(indent=4)"
   ]
  },
  {
   "cell_type": "code",
   "execution_count": 11,
   "metadata": {
    "collapsed": true
   },
   "outputs": [],
   "source": [
    "exercise_weights_wrt_mile = {\n",
    "    'Mile Run' : 1,\n",
    "    '100 M Sprint' : 0.75,\n",
    "    '5 Rep Max Bench' : 2, \n",
    "    'Pull-ups To Exhaustion' : 1.5,\n",
    "    'Vertical Jump': 1.25,\n",
    "    'Sit and Reach' : 0.5,\n",
    "    'Body Fat %' : 2,\n",
    "    'Pushups to Exhaustion' : 1.25,\n",
    "    'Plank to Exhaustion' : 1.5\n",
    "}\n",
    "\n",
    "avg_exercise_measurements = {\n",
    "    'Mile Run' : 8,\n",
    "    '100 M Sprint' : 14,\n",
    "    '5 Rep Max Bench' : 115, \n",
    "    'Pull-ups To Exhaustion' : 5,\n",
    "    'Vertical Jump': 18,\n",
    "    'Sit and Reach' : 8,\n",
    "    'Body Fat %' : -.18, #negative because score and bf % are inversely related\n",
    "    'Pushups to Exhaustion' : 20,\n",
    "    'Plank to Exhaustion' : 60\n",
    "}\n",
    "average_composite_score = 50"
   ]
  },
  {
   "cell_type": "code",
   "execution_count": 12,
   "metadata": {
    "collapsed": true
   },
   "outputs": [],
   "source": [
    "def generate_system_of_equations():\n",
    "    a, b = [], []\n",
    "    a.append(list(avg_exercise_measurements.values()))\n",
    "    b.append(average_composite_score)\n",
    "    mile = list(avg_exercise_measurements.values())[0]\n",
    "    exercises = list(exercise_weights_wrt_mile.keys())\n",
    "    for i in range(1, len(exercises)):\n",
    "        equation = [0] * len(exercises)\n",
    "        equation[0] = mile * exercise_weights_wrt_mile[exercises[i]]\n",
    "        equation[i] = -1 * avg_exercise_measurements[exercises[i]]\n",
    "        a.append(equation)\n",
    "        b.append(0)\n",
    "    return a, b"
   ]
  },
  {
   "cell_type": "code",
   "execution_count": 13,
   "metadata": {},
   "outputs": [
    {
     "name": "stdout",
     "output_type": "stream",
     "text": [
      "[   [8, 14, 115, 5, 18, 8, -0.18, 20, 60],\n",
      "    [6.0, -14, 0, 0, 0, 0, 0, 0, 0],\n",
      "    [16, 0, -115, 0, 0, 0, 0, 0, 0],\n",
      "    [12.0, 0, 0, -5, 0, 0, 0, 0, 0],\n",
      "    [10.0, 0, 0, 0, -18, 0, 0, 0, 0],\n",
      "    [4.0, 0, 0, 0, 0, -8, 0, 0, 0],\n",
      "    [16, 0, 0, 0, 0, 0, 0.18, 0, 0],\n",
      "    [10.0, 0, 0, 0, 0, 0, 0, -20, 0],\n",
      "    [12.0, 0, 0, 0, 0, 0, 0, 0, -60]]\n",
      "[50, 0, 0, 0, 0, 0, 0, 0, 0]\n"
     ]
    }
   ],
   "source": [
    "a, b = generate_system_of_equations()\n",
    "pp.pprint(a)\n",
    "pp.pprint(b)"
   ]
  },
  {
   "cell_type": "code",
   "execution_count": 15,
   "metadata": {},
   "outputs": [
    {
     "name": "stdout",
     "output_type": "stream",
     "text": [
      "Mile Run: 0.5319148936170213\n",
      "100 M Sprint: 0.22796352583586627\n",
      "5 Rep Max Bench: 0.07400555041628122\n",
      "Pull-ups To Exhaustion: 1.2765957446808511\n",
      "Vertical Jump: 0.2955082742316784\n",
      "Sit and Reach: 0.2659574468085107\n",
      "Body Fat %: -47.28132387706859\n",
      "Pushups to Exhaustion: 0.26595744680851047\n",
      "Plank to Exhaustion: 0.1063829787234043\n"
     ]
    }
   ],
   "source": [
    "weights = np.linalg.solve(np.array(a), np.array(b))\n",
    "def display_weights():\n",
    "    for i, exercise in enumerate(exercise_weights_wrt_mile):\n",
    "        print('{}: {}'.format(exercise, weights[i]))\n",
    "display_weights()"
   ]
  },
  {
   "cell_type": "code",
   "execution_count": null,
   "metadata": {
    "collapsed": true
   },
   "outputs": [],
   "source": []
  },
  {
   "cell_type": "code",
   "execution_count": null,
   "metadata": {
    "collapsed": true
   },
   "outputs": [],
   "source": []
  },
  {
   "cell_type": "code",
   "execution_count": null,
   "metadata": {
    "collapsed": true
   },
   "outputs": [],
   "source": []
  }
 ],
 "metadata": {
  "kernelspec": {
   "display_name": "Python 3",
   "language": "python",
   "name": "python3"
  },
  "language_info": {
   "codemirror_mode": {
    "name": "ipython",
    "version": 3
   },
   "file_extension": ".py",
   "mimetype": "text/x-python",
   "name": "python",
   "nbconvert_exporter": "python",
   "pygments_lexer": "ipython3",
   "version": "3.6.3"
  }
 },
 "nbformat": 4,
 "nbformat_minor": 2
}
